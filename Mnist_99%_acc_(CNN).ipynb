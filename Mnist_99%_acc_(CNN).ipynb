{
  "nbformat": 4,
  "nbformat_minor": 0,
  "metadata": {
    "colab": {
      "name": "Mnist(CNN).ipynb",
      "provenance": [],
      "authorship_tag": "ABX9TyMdGYmwObjQKnifmwmm34DN",
      "include_colab_link": true
    },
    "kernelspec": {
      "name": "python3",
      "display_name": "Python 3"
    },
    "accelerator": "GPU"
  },
  "cells": [
    {
      "cell_type": "markdown",
      "metadata": {
        "id": "view-in-github",
        "colab_type": "text"
      },
      "source": [
        "<a href=\"https://colab.research.google.com/github/astrasourav/Deep-Learning-/blob/master/Mnist_99%25_acc_(CNN).ipynb\" target=\"_parent\"><img src=\"https://colab.research.google.com/assets/colab-badge.svg\" alt=\"Open In Colab\"/></a>"
      ]
    },
    {
      "cell_type": "markdown",
      "metadata": {
        "id": "zmDAzk_56sJc",
        "colab_type": "text"
      },
      "source": [
        "# Importing libraries and downloading datasets"
      ]
    },
    {
      "cell_type": "code",
      "metadata": {
        "id": "irlaxoS9Mu5I",
        "colab_type": "code",
        "colab": {}
      },
      "source": [
        "import tensorflow as tf\n",
        "from tensorflow import keras\n",
        "import pandas as pd\n",
        "import numpy as np\n",
        "import matplotlib.pyplot as plt"
      ],
      "execution_count": 0,
      "outputs": []
    },
    {
      "cell_type": "code",
      "metadata": {
        "id": "yv2v35EZNOgs",
        "colab_type": "code",
        "colab": {
          "base_uri": "https://localhost:8080/",
          "height": 54
        },
        "outputId": "b377f2f8-c5c8-485e-f3c6-cffa741e0919"
      },
      "source": [
        "(train_image, train_label), (test_image, test_label) = tf.keras.datasets.mnist.load_data()"
      ],
      "execution_count": 2,
      "outputs": [
        {
          "output_type": "stream",
          "text": [
            "Downloading data from https://storage.googleapis.com/tensorflow/tf-keras-datasets/mnist.npz\n",
            "11493376/11490434 [==============================] - 0s 0us/step\n"
          ],
          "name": "stdout"
        }
      ]
    },
    {
      "cell_type": "markdown",
      "metadata": {
        "id": "G37qkOxb62DB",
        "colab_type": "text"
      },
      "source": [
        "# Preprocessing the data"
      ]
    },
    {
      "cell_type": "code",
      "metadata": {
        "id": "V17jJXu9NXJo",
        "colab_type": "code",
        "outputId": "f69c1e3f-b3d0-4c07-a19d-5ffb23ea8aad",
        "colab": {
          "base_uri": "https://localhost:8080/",
          "height": 36
        }
      },
      "source": [
        "# plt.imshow(train_image[0], cmap='binary')\n",
        "# plt.show()\n",
        "\n",
        "# train_label[0]\n",
        "train_image.shape"
      ],
      "execution_count": 0,
      "outputs": [
        {
          "output_type": "execute_result",
          "data": {
            "text/plain": [
              "(60000, 28, 28, 1)"
            ]
          },
          "metadata": {
            "tags": []
          },
          "execution_count": 15
        }
      ]
    },
    {
      "cell_type": "code",
      "metadata": {
        "id": "jJk6zFXSN7hw",
        "colab_type": "code",
        "colab": {}
      },
      "source": [
        "train_image = train_image.reshape(train_image.shape[0], 28, 28, 1)\n",
        "test_image = test_image.reshape(test_image.shape[0], 28, 28, 1)\n",
        "\n",
        "train_image = train_image/255.0\n",
        "test_image = test_image/255.0"
      ],
      "execution_count": 0,
      "outputs": []
    },
    {
      "cell_type": "markdown",
      "metadata": {
        "id": "8O8EItd967F5",
        "colab_type": "text"
      },
      "source": [
        "# Building a model"
      ]
    },
    {
      "cell_type": "code",
      "metadata": {
        "id": "OgrHl_HmETDo",
        "colab_type": "code",
        "outputId": "c895e4e2-ead8-409e-d4d3-529816479ded",
        "colab": {
          "base_uri": "https://localhost:8080/",
          "height": 503
        }
      },
      "source": [
        "model = tf.keras.models.Sequential([\n",
        "                                    keras.layers.Conv2D(32, (3,3), activation='relu', input_shape=(28, 28, 1)),\n",
        "                                    keras.layers.MaxPooling2D((2,2), strides=2),\n",
        "                                    keras.layers.Conv2D(64, (3,3), activation='relu'),\n",
        "                                    keras.layers.MaxPooling2D((2,2), strides=2),\n",
        "                                    keras.layers.Dropout(0.2),\n",
        "                                    keras.layers.Flatten(),\n",
        "                                    keras.layers.Dense(256, activation='relu'),\n",
        "                                    keras.layers.Dropout(0.2),\n",
        "                                    keras.layers.Dense(10, activation='softmax')\n",
        "])\n",
        "\n",
        "model.summary()"
      ],
      "execution_count": 13,
      "outputs": [
        {
          "output_type": "stream",
          "text": [
            "Model: \"sequential_1\"\n",
            "_________________________________________________________________\n",
            "Layer (type)                 Output Shape              Param #   \n",
            "=================================================================\n",
            "conv2d_2 (Conv2D)            (None, 26, 26, 32)        320       \n",
            "_________________________________________________________________\n",
            "max_pooling2d_2 (MaxPooling2 (None, 13, 13, 32)        0         \n",
            "_________________________________________________________________\n",
            "conv2d_3 (Conv2D)            (None, 11, 11, 64)        18496     \n",
            "_________________________________________________________________\n",
            "max_pooling2d_3 (MaxPooling2 (None, 5, 5, 64)          0         \n",
            "_________________________________________________________________\n",
            "dropout_2 (Dropout)          (None, 5, 5, 64)          0         \n",
            "_________________________________________________________________\n",
            "flatten_1 (Flatten)          (None, 1600)              0         \n",
            "_________________________________________________________________\n",
            "dense_2 (Dense)              (None, 256)               409856    \n",
            "_________________________________________________________________\n",
            "dropout_3 (Dropout)          (None, 256)               0         \n",
            "_________________________________________________________________\n",
            "dense_3 (Dense)              (None, 10)                2570      \n",
            "=================================================================\n",
            "Total params: 431,242\n",
            "Trainable params: 431,242\n",
            "Non-trainable params: 0\n",
            "_________________________________________________________________\n"
          ],
          "name": "stdout"
        }
      ]
    },
    {
      "cell_type": "code",
      "metadata": {
        "id": "4Cgt2YzgFXwn",
        "colab_type": "code",
        "colab": {}
      },
      "source": [
        "# Creating EarlyStopping\n",
        "\n",
        "es = keras.callbacks.EarlyStopping(patience=10)"
      ],
      "execution_count": 0,
      "outputs": []
    },
    {
      "cell_type": "code",
      "metadata": {
        "id": "XnTL8EQ9FzoB",
        "colab_type": "code",
        "outputId": "3db138b9-a664-47ea-eba5-c85b868b1452",
        "colab": {
          "base_uri": "https://localhost:8080/",
          "height": 802
        }
      },
      "source": [
        "# Compiling & training the model\n",
        "\n",
        "model.compile(optimizer=keras.optimizers.Adam(lr=0.001), loss='sparse_categorical_crossentropy', metrics=['accuracy'])\n",
        "\n",
        "history = model.fit(train_image, train_label, validation_split=0.1, epochs=100, callbacks=es, batch_size=40)"
      ],
      "execution_count": 14,
      "outputs": [
        {
          "output_type": "stream",
          "text": [
            "Epoch 1/100\n",
            "1350/1350 [==============================] - 4s 3ms/step - loss: 0.1595 - accuracy: 0.9502 - val_loss: 0.0447 - val_accuracy: 0.9880\n",
            "Epoch 2/100\n",
            "1350/1350 [==============================] - 4s 3ms/step - loss: 0.0528 - accuracy: 0.9839 - val_loss: 0.0370 - val_accuracy: 0.9892\n",
            "Epoch 3/100\n",
            "1350/1350 [==============================] - 4s 3ms/step - loss: 0.0382 - accuracy: 0.9882 - val_loss: 0.0439 - val_accuracy: 0.9865\n",
            "Epoch 4/100\n",
            "1350/1350 [==============================] - 4s 3ms/step - loss: 0.0310 - accuracy: 0.9900 - val_loss: 0.0324 - val_accuracy: 0.9917\n",
            "Epoch 5/100\n",
            "1350/1350 [==============================] - 4s 3ms/step - loss: 0.0245 - accuracy: 0.9921 - val_loss: 0.0324 - val_accuracy: 0.9922\n",
            "Epoch 6/100\n",
            "1350/1350 [==============================] - 4s 3ms/step - loss: 0.0222 - accuracy: 0.9930 - val_loss: 0.0371 - val_accuracy: 0.9912\n",
            "Epoch 7/100\n",
            "1350/1350 [==============================] - 4s 3ms/step - loss: 0.0162 - accuracy: 0.9942 - val_loss: 0.0356 - val_accuracy: 0.9917\n",
            "Epoch 8/100\n",
            "1350/1350 [==============================] - 4s 3ms/step - loss: 0.0167 - accuracy: 0.9946 - val_loss: 0.0323 - val_accuracy: 0.9923\n",
            "Epoch 9/100\n",
            "1350/1350 [==============================] - 4s 3ms/step - loss: 0.0128 - accuracy: 0.9955 - val_loss: 0.0391 - val_accuracy: 0.9910\n",
            "Epoch 10/100\n",
            "1350/1350 [==============================] - 4s 3ms/step - loss: 0.0137 - accuracy: 0.9956 - val_loss: 0.0422 - val_accuracy: 0.9910\n",
            "Epoch 11/100\n",
            "1350/1350 [==============================] - 4s 3ms/step - loss: 0.0112 - accuracy: 0.9965 - val_loss: 0.0312 - val_accuracy: 0.9928\n",
            "Epoch 12/100\n",
            "1350/1350 [==============================] - 4s 3ms/step - loss: 0.0107 - accuracy: 0.9960 - val_loss: 0.0358 - val_accuracy: 0.9922\n",
            "Epoch 13/100\n",
            "1350/1350 [==============================] - 3s 3ms/step - loss: 0.0093 - accuracy: 0.9969 - val_loss: 0.0384 - val_accuracy: 0.9920\n",
            "Epoch 14/100\n",
            "1350/1350 [==============================] - 4s 3ms/step - loss: 0.0096 - accuracy: 0.9967 - val_loss: 0.0400 - val_accuracy: 0.9918\n",
            "Epoch 15/100\n",
            "1350/1350 [==============================] - 4s 3ms/step - loss: 0.0087 - accuracy: 0.9971 - val_loss: 0.0459 - val_accuracy: 0.9915\n",
            "Epoch 16/100\n",
            "1350/1350 [==============================] - 3s 3ms/step - loss: 0.0082 - accuracy: 0.9969 - val_loss: 0.0508 - val_accuracy: 0.9922\n",
            "Epoch 17/100\n",
            "1350/1350 [==============================] - 4s 3ms/step - loss: 0.0080 - accuracy: 0.9973 - val_loss: 0.0403 - val_accuracy: 0.9925\n",
            "Epoch 18/100\n",
            "1350/1350 [==============================] - 4s 3ms/step - loss: 0.0080 - accuracy: 0.9974 - val_loss: 0.0408 - val_accuracy: 0.9927\n",
            "Epoch 19/100\n",
            "1350/1350 [==============================] - 4s 3ms/step - loss: 0.0068 - accuracy: 0.9979 - val_loss: 0.0421 - val_accuracy: 0.9928\n",
            "Epoch 20/100\n",
            "1350/1350 [==============================] - 4s 3ms/step - loss: 0.0069 - accuracy: 0.9975 - val_loss: 0.0464 - val_accuracy: 0.9922\n",
            "Epoch 21/100\n",
            "1350/1350 [==============================] - 4s 3ms/step - loss: 0.0064 - accuracy: 0.9979 - val_loss: 0.0451 - val_accuracy: 0.9920\n"
          ],
          "name": "stdout"
        }
      ]
    },
    {
      "cell_type": "code",
      "metadata": {
        "id": "XyKqS9NVHaWa",
        "colab_type": "code",
        "outputId": "06744ec0-bcf7-4f3e-e2de-c3d4c9f6bc67",
        "colab": {
          "base_uri": "https://localhost:8080/",
          "height": 54
        }
      },
      "source": [
        "# Evaluating the model\n",
        "\n",
        "model.evaluate(test_image, test_label)"
      ],
      "execution_count": 15,
      "outputs": [
        {
          "output_type": "stream",
          "text": [
            "313/313 [==============================] - 1s 2ms/step - loss: 0.0373 - accuracy: 0.9923\n"
          ],
          "name": "stdout"
        },
        {
          "output_type": "execute_result",
          "data": {
            "text/plain": [
              "[0.03727534040808678, 0.9922999739646912]"
            ]
          },
          "metadata": {
            "tags": []
          },
          "execution_count": 15
        }
      ]
    },
    {
      "cell_type": "code",
      "metadata": {
        "id": "PZB5DuBCHlBW",
        "colab_type": "code",
        "outputId": "338f2593-6d02-486e-85dd-3083e945c135",
        "colab": {
          "base_uri": "https://localhost:8080/",
          "height": 596
        }
      },
      "source": [
        "# Plotting the graph\n",
        "\n",
        "pd.DataFrame(history.history).plot(figsize=(10,10))\n",
        "plt.grid=True\n",
        "plt.gca().set_ylim(0,1)\n",
        "plt.show()"
      ],
      "execution_count": 16,
      "outputs": [
        {
          "output_type": "display_data",
          "data": {
            "image/png": "[encoded data removed]",
            "text/plain": [
              "<Figure size 720x720 with 1 Axes>"
            ]
          },
          "metadata": {
            "tags": [],
            "needs_background": "light"
          }
        }
      ]
    },
    {
      "cell_type": "code",
      "metadata": {
        "id": "Vt4Jumoy4bR5",
        "colab_type": "code",
        "colab": {
          "base_uri": "https://localhost:8080/",
          "height": 284
        },
        "outputId": "b6c57113-a740-41a3-c03a-b7d6ff34b896"
      },
      "source": [
        "# Predicting the data\n",
        "\n",
        "index=1\n",
        "plt.imshow(test_image[index].reshape(28,28), cmap='Greys')\n",
        "test_label[index]"
      ],
      "execution_count": 33,
      "outputs": [
        {
          "output_type": "execute_result",
          "data": {
            "text/plain": [
              "2"
            ]
          },
          "metadata": {
            "tags": []
          },
          "execution_count": 33
        },
        {
          "output_type": "display_data",
          "data": {
            "image/png": "[encoded data removed]",
            "text/plain": [
              "<Figure size 432x288 with 1 Axes>"
            ]
          },
          "metadata": {
            "tags": [],
            "needs_background": "light"
          }
        }
      ]
    }
  ]
}