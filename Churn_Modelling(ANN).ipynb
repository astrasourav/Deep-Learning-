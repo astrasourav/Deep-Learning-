{
  "nbformat": 4,
  "nbformat_minor": 0,
  "metadata": {
    "colab": {
      "name": "Churn Modelling(ANN).ipynb",
      "provenance": [],
      "authorship_tag": "ABX9TyOOpT27Di+RyFbFF7nRWXdl",
      "include_colab_link": true
    },
    "kernelspec": {
      "name": "python3",
      "display_name": "Python 3"
    }
  },
  "cells": [
    {
      "cell_type": "markdown",
      "metadata": {
        "id": "view-in-github",
        "colab_type": "text"
      },
      "source": [
        "<a href=\"https://colab.research.google.com/github/astrasourav/Deep-Learning-/blob/master/Churn_Modelling(ANN).ipynb\" target=\"_parent\"><img src=\"https://colab.research.google.com/assets/colab-badge.svg\" alt=\"Open In Colab\"/></a>"
      ]
    },
    {
      "cell_type": "markdown",
      "metadata": {
        "id": "VN8lbgDIwekK",
        "colab_type": "text"
      },
      "source": [
        "# Uploading file and importing libraries"
      ]
    },
    {
      "cell_type": "code",
      "metadata": {
        "id": "hD2eApNdwM0Q",
        "colab_type": "code",
        "colab": {}
      },
      "source": [
        "from google.colab import files\n",
        "\n",
        "files.upload()"
      ],
      "execution_count": 0,
      "outputs": []
    },
    {
      "cell_type": "code",
      "metadata": {
        "id": "l-9KSFb0w8Qh",
        "colab_type": "code",
        "colab": {}
      },
      "source": [
        "import numpy as np\n",
        "import pandas as pd\n",
        "import tensorflow as tf\n",
        "from tensorflow import keras\n",
        "import matplotlib.pyplot as plt"
      ],
      "execution_count": 0,
      "outputs": []
    },
    {
      "cell_type": "markdown",
      "metadata": {
        "id": "1EhSG3NixGij",
        "colab_type": "text"
      },
      "source": [
        "# Data analysis and data preprocessing"
      ]
    },
    {
      "cell_type": "code",
      "metadata": {
        "id": "KMQgNNt5xMLi",
        "colab_type": "code",
        "colab": {}
      },
      "source": [
        "data = pd.read_csv('/content/Churn_Modelling.csv')"
      ],
      "execution_count": 0,
      "outputs": []
    },
    {
      "cell_type": "code",
      "metadata": {
        "id": "kalsYo_DxTru",
        "colab_type": "code",
        "outputId": "891b1c2c-5751-4d75-d45e-6513bd365b3d",
        "colab": {
          "base_uri": "https://localhost:8080/",
          "height": 206
        }
      },
      "source": [
        "data.head()\n",
        "# data.info()\n",
        "# data.isnull().sum()"
      ],
      "execution_count": 29,
      "outputs": [
        {
          "output_type": "execute_result",
          "data": {
            "text/html": [
              "<div>\n",
              "<style scoped>\n",
              "    .dataframe tbody tr th:only-of-type {\n",
              "        vertical-align: middle;\n",
              "    }\n",
              "\n",
              "    .dataframe tbody tr th {\n",
              "        vertical-align: top;\n",
              "    }\n",
              "\n",
              "    .dataframe thead th {\n",
              "        text-align: right;\n",
              "    }\n",
              "</style>\n",
              "<table border=\"1\" class=\"dataframe\">\n",
              "  <thead>\n",
              "    <tr style=\"text-align: right;\">\n",
              "      <th></th>\n",
              "      <th>RowNumber</th>\n",
              "      <th>CustomerId</th>\n",
              "      <th>Surname</th>\n",
              "      <th>CreditScore</th>\n",
              "      <th>Geography</th>\n",
              "      <th>Gender</th>\n",
              "      <th>Age</th>\n",
              "      <th>Tenure</th>\n",
              "      <th>Balance</th>\n",
              "      <th>NumOfProducts</th>\n",
              "      <th>HasCrCard</th>\n",
              "      <th>IsActiveMember</th>\n",
              "      <th>EstimatedSalary</th>\n",
              "      <th>Exited</th>\n",
              "    </tr>\n",
              "  </thead>\n",
              "  <tbody>\n",
              "    <tr>\n",
              "      <th>0</th>\n",
              "      <td>1</td>\n",
              "      <td>15634602</td>\n",
              "      <td>Hargrave</td>\n",
              "      <td>619</td>\n",
              "      <td>France</td>\n",
              "      <td>Female</td>\n",
              "      <td>42</td>\n",
              "      <td>2</td>\n",
              "      <td>0.00</td>\n",
              "      <td>1</td>\n",
              "      <td>1</td>\n",
              "      <td>1</td>\n",
              "      <td>101348.88</td>\n",
              "      <td>1</td>\n",
              "    </tr>\n",
              "    <tr>\n",
              "      <th>1</th>\n",
              "      <td>2</td>\n",
              "      <td>15647311</td>\n",
              "      <td>Hill</td>\n",
              "      <td>608</td>\n",
              "      <td>Spain</td>\n",
              "      <td>Female</td>\n",
              "      <td>41</td>\n",
              "      <td>1</td>\n",
              "      <td>83807.86</td>\n",
              "      <td>1</td>\n",
              "      <td>0</td>\n",
              "      <td>1</td>\n",
              "      <td>112542.58</td>\n",
              "      <td>0</td>\n",
              "    </tr>\n",
              "    <tr>\n",
              "      <th>2</th>\n",
              "      <td>3</td>\n",
              "      <td>15619304</td>\n",
              "      <td>Onio</td>\n",
              "      <td>502</td>\n",
              "      <td>France</td>\n",
              "      <td>Female</td>\n",
              "      <td>42</td>\n",
              "      <td>8</td>\n",
              "      <td>159660.80</td>\n",
              "      <td>3</td>\n",
              "      <td>1</td>\n",
              "      <td>0</td>\n",
              "      <td>113931.57</td>\n",
              "      <td>1</td>\n",
              "    </tr>\n",
              "    <tr>\n",
              "      <th>3</th>\n",
              "      <td>4</td>\n",
              "      <td>15701354</td>\n",
              "      <td>Boni</td>\n",
              "      <td>699</td>\n",
              "      <td>France</td>\n",
              "      <td>Female</td>\n",
              "      <td>39</td>\n",
              "      <td>1</td>\n",
              "      <td>0.00</td>\n",
              "      <td>2</td>\n",
              "      <td>0</td>\n",
              "      <td>0</td>\n",
              "      <td>93826.63</td>\n",
              "      <td>0</td>\n",
              "    </tr>\n",
              "    <tr>\n",
              "      <th>4</th>\n",
              "      <td>5</td>\n",
              "      <td>15737888</td>\n",
              "      <td>Mitchell</td>\n",
              "      <td>850</td>\n",
              "      <td>Spain</td>\n",
              "      <td>Female</td>\n",
              "      <td>43</td>\n",
              "      <td>2</td>\n",
              "      <td>125510.82</td>\n",
              "      <td>1</td>\n",
              "      <td>1</td>\n",
              "      <td>1</td>\n",
              "      <td>79084.10</td>\n",
              "      <td>0</td>\n",
              "    </tr>\n",
              "  </tbody>\n",
              "</table>\n",
              "</div>"
            ],
            "text/plain": [
              "   RowNumber  CustomerId   Surname  ...  IsActiveMember EstimatedSalary Exited\n",
              "0          1    15634602  Hargrave  ...               1       101348.88      1\n",
              "1          2    15647311      Hill  ...               1       112542.58      0\n",
              "2          3    15619304      Onio  ...               0       113931.57      1\n",
              "3          4    15701354      Boni  ...               0        93826.63      0\n",
              "4          5    15737888  Mitchell  ...               1        79084.10      0\n",
              "\n",
              "[5 rows x 14 columns]"
            ]
          },
          "metadata": {
            "tags": []
          },
          "execution_count": 29
        }
      ]
    },
    {
      "cell_type": "code",
      "metadata": {
        "id": "_DnaNLbnyKUi",
        "colab_type": "code",
        "colab": {}
      },
      "source": [
        "# Dividing data into dependent & independent set\n",
        "\n",
        "X = data.iloc[:, 3: 13].values\n",
        "y = data.iloc[:, -1].values"
      ],
      "execution_count": 0,
      "outputs": []
    },
    {
      "cell_type": "code",
      "metadata": {
        "id": "w9f4yw_Dzoqe",
        "colab_type": "code",
        "outputId": "199fd47f-ae22-478a-8f24-b8b271a92525",
        "colab": {
          "base_uri": "https://localhost:8080/",
          "height": 148
        }
      },
      "source": [
        "X"
      ],
      "execution_count": 48,
      "outputs": [
        {
          "output_type": "execute_result",
          "data": {
            "text/plain": [
              "array([[1.0, 0.0, 0.0, ..., 1, 1, 101348.88],\n",
              "       [0.0, 0.0, 1.0, ..., 0, 1, 112542.58],\n",
              "       [1.0, 0.0, 0.0, ..., 1, 0, 113931.57],\n",
              "       ...,\n",
              "       [1.0, 0.0, 0.0, ..., 0, 1, 42085.58],\n",
              "       [0.0, 1.0, 0.0, ..., 1, 0, 92888.52],\n",
              "       [1.0, 0.0, 0.0, ..., 1, 0, 38190.78]], dtype=object)"
            ]
          },
          "metadata": {
            "tags": []
          },
          "execution_count": 48
        }
      ]
    },
    {
      "cell_type": "code",
      "metadata": {
        "id": "oU1E3OCLzBYq",
        "colab_type": "code",
        "colab": {}
      },
      "source": [
        "# Label encoding\n",
        "\n",
        "from sklearn.preprocessing import LabelEncoder\n",
        "\n",
        "lb_1 = LabelEncoder()\n",
        "X[:, 2] = lb_1.fit_transform(X[:, 2])\n"
      ],
      "execution_count": 0,
      "outputs": []
    },
    {
      "cell_type": "code",
      "metadata": {
        "id": "P8fjuCp311u3",
        "colab_type": "code",
        "colab": {}
      },
      "source": [
        "# One-hot Encoding Geography column\n",
        "\n",
        "from sklearn.preprocessing import OneHotEncoder\n",
        "from sklearn.compose import ColumnTransformer\n",
        "\n",
        "ct = ColumnTransformer(transformers=[('encoder', OneHotEncoder(), [1])], remainder='passthrough')\n",
        "X = np.array(ct.fit_transform(X))"
      ],
      "execution_count": 0,
      "outputs": []
    },
    {
      "cell_type": "code",
      "metadata": {
        "id": "NHxMZvcX4pE5",
        "colab_type": "code",
        "colab": {}
      },
      "source": [
        "# Creating training & testing set\n",
        "\n",
        "from sklearn.model_selection import train_test_split\n",
        "\n",
        "x_train, x_test, y_train, y_test = train_test_split(X,y, random_state=0, test_size=0.2)"
      ],
      "execution_count": 0,
      "outputs": []
    },
    {
      "cell_type": "code",
      "metadata": {
        "id": "It7cld895oeV",
        "colab_type": "code",
        "colab": {}
      },
      "source": [
        "# Feature Scaling\n",
        "\n",
        "from sklearn.preprocessing import StandardScaler\n",
        "\n",
        "sc = StandardScaler()\n",
        "x_train = sc.fit_transform(x_train)\n",
        "x_test = sc.fit_transform(x_test)"
      ],
      "execution_count": 0,
      "outputs": []
    },
    {
      "cell_type": "markdown",
      "metadata": {
        "id": "Tb1caoyz3OPX",
        "colab_type": "text"
      },
      "source": [
        "# Building our Model"
      ]
    },
    {
      "cell_type": "code",
      "metadata": {
        "id": "IbrqbBRp3CyB",
        "colab_type": "code",
        "colab": {
          "base_uri": "https://localhost:8080/",
          "height": 279
        },
        "outputId": "cf78bf90-675e-467b-ee2e-6a975b969ae4"
      },
      "source": [
        "model = tf.keras.models.Sequential([\n",
        "                                keras.layers.Dense(10, activation='relu', input_shape=(12,)),\n",
        "                                keras.layers.Dense(10, activation='relu'),\n",
        "                                keras.layers.Dense(1, activation='sigmoid')\n",
        "])\n",
        "\n",
        "model.summary()"
      ],
      "execution_count": 58,
      "outputs": [
        {
          "output_type": "stream",
          "text": [
            "Model: \"sequential_2\"\n",
            "_________________________________________________________________\n",
            "Layer (type)                 Output Shape              Param #   \n",
            "=================================================================\n",
            "dense_6 (Dense)              (None, 10)                130       \n",
            "_________________________________________________________________\n",
            "dense_7 (Dense)              (None, 10)                110       \n",
            "_________________________________________________________________\n",
            "dense_8 (Dense)              (None, 1)                 11        \n",
            "=================================================================\n",
            "Total params: 251\n",
            "Trainable params: 251\n",
            "Non-trainable params: 0\n",
            "_________________________________________________________________\n"
          ],
          "name": "stdout"
        }
      ]
    },
    {
      "cell_type": "code",
      "metadata": {
        "id": "r7GzuHez4fRL",
        "colab_type": "code",
        "colab": {
          "base_uri": "https://localhost:8080/",
          "height": 1000
        },
        "outputId": "19dc7ada-7bd2-4c4c-8571-2c84758849f6"
      },
      "source": [
        "# Compiling & Training the data\n",
        "\n",
        "model.compile(optimizer='adam', loss='binary_crossentropy', metrics=['accuracy'])\n",
        "\n",
        "history = model.fit(x_train, y_train, batch_size=80, epochs=100)"
      ],
      "execution_count": 59,
      "outputs": [
        {
          "output_type": "stream",
          "text": [
            "Epoch 1/100\n",
            "100/100 [==============================] - 0s 1ms/step - loss: 0.5735 - accuracy: 0.7545\n",
            "Epoch 2/100\n",
            "100/100 [==============================] - 0s 1ms/step - loss: 0.4855 - accuracy: 0.8035\n",
            "Epoch 3/100\n",
            "100/100 [==============================] - 0s 1ms/step - loss: 0.4549 - accuracy: 0.8086\n",
            "Epoch 4/100\n",
            "100/100 [==============================] - 0s 1ms/step - loss: 0.4400 - accuracy: 0.8139\n",
            "Epoch 5/100\n",
            "100/100 [==============================] - 0s 1ms/step - loss: 0.4319 - accuracy: 0.8161\n",
            "Epoch 6/100\n",
            "100/100 [==============================] - 0s 1ms/step - loss: 0.4262 - accuracy: 0.8186\n",
            "Epoch 7/100\n",
            "100/100 [==============================] - 0s 1ms/step - loss: 0.4215 - accuracy: 0.8211\n",
            "Epoch 8/100\n",
            "100/100 [==============================] - 0s 1ms/step - loss: 0.4167 - accuracy: 0.8236\n",
            "Epoch 9/100\n",
            "100/100 [==============================] - 0s 1ms/step - loss: 0.4114 - accuracy: 0.8267\n",
            "Epoch 10/100\n",
            "100/100 [==============================] - 0s 1ms/step - loss: 0.4054 - accuracy: 0.8307\n",
            "Epoch 11/100\n",
            "100/100 [==============================] - 0s 1ms/step - loss: 0.3982 - accuracy: 0.8345\n",
            "Epoch 12/100\n",
            "100/100 [==============================] - 0s 1ms/step - loss: 0.3901 - accuracy: 0.8390\n",
            "Epoch 13/100\n",
            "100/100 [==============================] - 0s 1ms/step - loss: 0.3821 - accuracy: 0.8436\n",
            "Epoch 14/100\n",
            "100/100 [==============================] - 0s 1ms/step - loss: 0.3738 - accuracy: 0.8516\n",
            "Epoch 15/100\n",
            "100/100 [==============================] - 0s 1ms/step - loss: 0.3672 - accuracy: 0.8540\n",
            "Epoch 16/100\n",
            "100/100 [==============================] - 0s 1ms/step - loss: 0.3618 - accuracy: 0.8553\n",
            "Epoch 17/100\n",
            "100/100 [==============================] - 0s 1ms/step - loss: 0.3576 - accuracy: 0.8556\n",
            "Epoch 18/100\n",
            "100/100 [==============================] - 0s 1ms/step - loss: 0.3548 - accuracy: 0.8565\n",
            "Epoch 19/100\n",
            "100/100 [==============================] - 0s 1ms/step - loss: 0.3526 - accuracy: 0.8589\n",
            "Epoch 20/100\n",
            "100/100 [==============================] - 0s 1ms/step - loss: 0.3506 - accuracy: 0.8589\n",
            "Epoch 21/100\n",
            "100/100 [==============================] - 0s 1ms/step - loss: 0.3492 - accuracy: 0.8584\n",
            "Epoch 22/100\n",
            "100/100 [==============================] - 0s 1ms/step - loss: 0.3479 - accuracy: 0.8590\n",
            "Epoch 23/100\n",
            "100/100 [==============================] - 0s 1ms/step - loss: 0.3467 - accuracy: 0.8586\n",
            "Epoch 24/100\n",
            "100/100 [==============================] - 0s 1ms/step - loss: 0.3458 - accuracy: 0.8594\n",
            "Epoch 25/100\n",
            "100/100 [==============================] - 0s 1ms/step - loss: 0.3450 - accuracy: 0.8593\n",
            "Epoch 26/100\n",
            "100/100 [==============================] - 0s 1ms/step - loss: 0.3442 - accuracy: 0.8597\n",
            "Epoch 27/100\n",
            "100/100 [==============================] - 0s 1ms/step - loss: 0.3435 - accuracy: 0.8589\n",
            "Epoch 28/100\n",
            "100/100 [==============================] - 0s 1ms/step - loss: 0.3430 - accuracy: 0.8587\n",
            "Epoch 29/100\n",
            "100/100 [==============================] - 0s 1ms/step - loss: 0.3422 - accuracy: 0.8589\n",
            "Epoch 30/100\n",
            "100/100 [==============================] - 0s 1ms/step - loss: 0.3417 - accuracy: 0.8609\n",
            "Epoch 31/100\n",
            "100/100 [==============================] - 0s 1ms/step - loss: 0.3414 - accuracy: 0.8580\n",
            "Epoch 32/100\n",
            "100/100 [==============================] - 0s 1ms/step - loss: 0.3407 - accuracy: 0.8610\n",
            "Epoch 33/100\n",
            "100/100 [==============================] - 0s 1ms/step - loss: 0.3401 - accuracy: 0.8606\n",
            "Epoch 34/100\n",
            "100/100 [==============================] - 0s 1ms/step - loss: 0.3394 - accuracy: 0.8606\n",
            "Epoch 35/100\n",
            "100/100 [==============================] - 0s 1ms/step - loss: 0.3392 - accuracy: 0.8595\n",
            "Epoch 36/100\n",
            "100/100 [==============================] - 0s 1ms/step - loss: 0.3390 - accuracy: 0.8596\n",
            "Epoch 37/100\n",
            "100/100 [==============================] - 0s 1ms/step - loss: 0.3386 - accuracy: 0.8609\n",
            "Epoch 38/100\n",
            "100/100 [==============================] - 0s 1ms/step - loss: 0.3381 - accuracy: 0.8595\n",
            "Epoch 39/100\n",
            "100/100 [==============================] - 0s 1ms/step - loss: 0.3378 - accuracy: 0.8619\n",
            "Epoch 40/100\n",
            "100/100 [==============================] - 0s 1ms/step - loss: 0.3372 - accuracy: 0.8619\n",
            "Epoch 41/100\n",
            "100/100 [==============================] - 0s 1ms/step - loss: 0.3369 - accuracy: 0.8614\n",
            "Epoch 42/100\n",
            "100/100 [==============================] - 0s 1ms/step - loss: 0.3371 - accuracy: 0.8604\n",
            "Epoch 43/100\n",
            "100/100 [==============================] - 0s 1ms/step - loss: 0.3367 - accuracy: 0.8619\n",
            "Epoch 44/100\n",
            "100/100 [==============================] - 0s 1ms/step - loss: 0.3364 - accuracy: 0.8615\n",
            "Epoch 45/100\n",
            "100/100 [==============================] - 0s 1ms/step - loss: 0.3360 - accuracy: 0.8622\n",
            "Epoch 46/100\n",
            "100/100 [==============================] - 0s 1ms/step - loss: 0.3357 - accuracy: 0.8627\n",
            "Epoch 47/100\n",
            "100/100 [==============================] - 0s 1ms/step - loss: 0.3352 - accuracy: 0.8627\n",
            "Epoch 48/100\n",
            "100/100 [==============================] - 0s 1ms/step - loss: 0.3351 - accuracy: 0.8626\n",
            "Epoch 49/100\n",
            "100/100 [==============================] - 0s 1ms/step - loss: 0.3349 - accuracy: 0.8630\n",
            "Epoch 50/100\n",
            "100/100 [==============================] - 0s 1ms/step - loss: 0.3346 - accuracy: 0.8630\n",
            "Epoch 51/100\n",
            "100/100 [==============================] - 0s 1ms/step - loss: 0.3343 - accuracy: 0.8614\n",
            "Epoch 52/100\n",
            "100/100 [==============================] - 0s 1ms/step - loss: 0.3341 - accuracy: 0.8619\n",
            "Epoch 53/100\n",
            "100/100 [==============================] - 0s 1ms/step - loss: 0.3343 - accuracy: 0.8619\n",
            "Epoch 54/100\n",
            "100/100 [==============================] - 0s 1ms/step - loss: 0.3337 - accuracy: 0.8637\n",
            "Epoch 55/100\n",
            "100/100 [==============================] - 0s 1ms/step - loss: 0.3330 - accuracy: 0.8610\n",
            "Epoch 56/100\n",
            "100/100 [==============================] - 0s 1ms/step - loss: 0.3333 - accuracy: 0.8620\n",
            "Epoch 57/100\n",
            "100/100 [==============================] - 0s 1ms/step - loss: 0.3326 - accuracy: 0.8649\n",
            "Epoch 58/100\n",
            "100/100 [==============================] - 0s 1ms/step - loss: 0.3327 - accuracy: 0.8620\n",
            "Epoch 59/100\n",
            "100/100 [==============================] - 0s 1ms/step - loss: 0.3326 - accuracy: 0.8641\n",
            "Epoch 60/100\n",
            "100/100 [==============================] - 0s 1ms/step - loss: 0.3321 - accuracy: 0.8639\n",
            "Epoch 61/100\n",
            "100/100 [==============================] - 0s 1ms/step - loss: 0.3318 - accuracy: 0.8636\n",
            "Epoch 62/100\n",
            "100/100 [==============================] - 0s 1ms/step - loss: 0.3324 - accuracy: 0.8636\n",
            "Epoch 63/100\n",
            "100/100 [==============================] - 0s 1ms/step - loss: 0.3320 - accuracy: 0.8641\n",
            "Epoch 64/100\n",
            "100/100 [==============================] - 0s 1ms/step - loss: 0.3314 - accuracy: 0.8631\n",
            "Epoch 65/100\n",
            "100/100 [==============================] - 0s 1ms/step - loss: 0.3313 - accuracy: 0.8636\n",
            "Epoch 66/100\n",
            "100/100 [==============================] - 0s 1ms/step - loss: 0.3311 - accuracy: 0.8636\n",
            "Epoch 67/100\n",
            "100/100 [==============================] - 0s 1ms/step - loss: 0.3314 - accuracy: 0.8630\n",
            "Epoch 68/100\n",
            "100/100 [==============================] - 0s 1ms/step - loss: 0.3309 - accuracy: 0.8627\n",
            "Epoch 69/100\n",
            "100/100 [==============================] - 0s 1ms/step - loss: 0.3308 - accuracy: 0.8639\n",
            "Epoch 70/100\n",
            "100/100 [==============================] - 0s 1ms/step - loss: 0.3310 - accuracy: 0.8637\n",
            "Epoch 71/100\n",
            "100/100 [==============================] - 0s 1ms/step - loss: 0.3305 - accuracy: 0.8639\n",
            "Epoch 72/100\n",
            "100/100 [==============================] - 0s 1ms/step - loss: 0.3306 - accuracy: 0.8637\n",
            "Epoch 73/100\n",
            "100/100 [==============================] - 0s 1ms/step - loss: 0.3302 - accuracy: 0.8641\n",
            "Epoch 74/100\n",
            "100/100 [==============================] - 0s 1ms/step - loss: 0.3298 - accuracy: 0.8650\n",
            "Epoch 75/100\n",
            "100/100 [==============================] - 0s 1ms/step - loss: 0.3300 - accuracy: 0.8644\n",
            "Epoch 76/100\n",
            "100/100 [==============================] - 0s 1ms/step - loss: 0.3298 - accuracy: 0.8654\n",
            "Epoch 77/100\n",
            "100/100 [==============================] - 0s 1ms/step - loss: 0.3297 - accuracy: 0.8659\n",
            "Epoch 78/100\n",
            "100/100 [==============================] - 0s 1ms/step - loss: 0.3294 - accuracy: 0.8640\n",
            "Epoch 79/100\n",
            "100/100 [==============================] - 0s 1ms/step - loss: 0.3294 - accuracy: 0.8651\n",
            "Epoch 80/100\n",
            "100/100 [==============================] - 0s 1ms/step - loss: 0.3295 - accuracy: 0.8649\n",
            "Epoch 81/100\n",
            "100/100 [==============================] - 0s 1ms/step - loss: 0.3293 - accuracy: 0.8658\n",
            "Epoch 82/100\n",
            "100/100 [==============================] - 0s 1ms/step - loss: 0.3289 - accuracy: 0.8650\n",
            "Epoch 83/100\n",
            "100/100 [==============================] - 0s 1ms/step - loss: 0.3289 - accuracy: 0.8645\n",
            "Epoch 84/100\n",
            "100/100 [==============================] - 0s 1ms/step - loss: 0.3288 - accuracy: 0.8659\n",
            "Epoch 85/100\n",
            "100/100 [==============================] - 0s 1ms/step - loss: 0.3286 - accuracy: 0.8655\n",
            "Epoch 86/100\n",
            "100/100 [==============================] - 0s 1ms/step - loss: 0.3284 - accuracy: 0.8652\n",
            "Epoch 87/100\n",
            "100/100 [==============================] - 0s 1ms/step - loss: 0.3284 - accuracy: 0.8648\n",
            "Epoch 88/100\n",
            "100/100 [==============================] - 0s 1ms/step - loss: 0.3279 - accuracy: 0.8659\n",
            "Epoch 89/100\n",
            "100/100 [==============================] - 0s 1ms/step - loss: 0.3283 - accuracy: 0.8636\n",
            "Epoch 90/100\n",
            "100/100 [==============================] - 0s 1ms/step - loss: 0.3280 - accuracy: 0.8648\n",
            "Epoch 91/100\n",
            "100/100 [==============================] - 0s 1ms/step - loss: 0.3281 - accuracy: 0.8644\n",
            "Epoch 92/100\n",
            "100/100 [==============================] - 0s 1ms/step - loss: 0.3280 - accuracy: 0.8654\n",
            "Epoch 93/100\n",
            "100/100 [==============================] - 0s 1ms/step - loss: 0.3278 - accuracy: 0.8654\n",
            "Epoch 94/100\n",
            "100/100 [==============================] - 0s 1ms/step - loss: 0.3280 - accuracy: 0.8651\n",
            "Epoch 95/100\n",
            "100/100 [==============================] - 0s 1ms/step - loss: 0.3279 - accuracy: 0.8656\n",
            "Epoch 96/100\n",
            "100/100 [==============================] - 0s 1ms/step - loss: 0.3277 - accuracy: 0.8650\n",
            "Epoch 97/100\n",
            "100/100 [==============================] - 0s 1ms/step - loss: 0.3277 - accuracy: 0.8650\n",
            "Epoch 98/100\n",
            "100/100 [==============================] - 0s 1ms/step - loss: 0.3272 - accuracy: 0.8652\n",
            "Epoch 99/100\n",
            "100/100 [==============================] - 0s 1ms/step - loss: 0.3274 - accuracy: 0.8675\n",
            "Epoch 100/100\n",
            "100/100 [==============================] - 0s 1ms/step - loss: 0.3276 - accuracy: 0.8665\n"
          ],
          "name": "stdout"
        }
      ]
    },
    {
      "cell_type": "code",
      "metadata": {
        "id": "EeR_bknZ6ww4",
        "colab_type": "code",
        "colab": {
          "base_uri": "https://localhost:8080/",
          "height": 596
        },
        "outputId": "a4c117e6-2c15-4ea0-fe13-92c6653130be"
      },
      "source": [
        "# plotting the graph\n",
        "\n",
        "pd.DataFrame(history.history).plot(figsize=(10,10))\n",
        "plt.grid=True\n",
        "plt.gca().set_ylim(0,1)\n",
        "plt.show()"
      ],
      "execution_count": 60,
      "outputs": [
        {
          "output_type": "display_data",
          "data": {
            "image/png": "[encoded data removed]",
            "text/plain": [
              "<Figure size 720x720 with 1 Axes>"
            ]
          },
          "metadata": {
            "tags": [],
            "needs_background": "light"
          }
        }
      ]
    },
    {
      "cell_type": "code",
      "metadata": {
        "id": "ab8ufHcM7EAT",
        "colab_type": "code",
        "colab": {
          "base_uri": "https://localhost:8080/",
          "height": 36
        },
        "outputId": "4e0f131c-485b-4d21-88ba-d5b21185af5b"
      },
      "source": [
        "# Evaluating the model\n",
        "\n",
        "loss_val, acc_val = model.evaluate(x_test, y_test)"
      ],
      "execution_count": 61,
      "outputs": [
        {
          "output_type": "stream",
          "text": [
            "63/63 [==============================] - 0s 971us/step - loss: 0.3358 - accuracy: 0.8645\n"
          ],
          "name": "stdout"
        }
      ]
    },
    {
      "cell_type": "markdown",
      "metadata": {
        "id": "hihVmc2Z7iVO",
        "colab_type": "text"
      },
      "source": [
        "# Predecting values"
      ]
    },
    {
      "cell_type": "code",
      "metadata": {
        "id": "I5TkAOim7nVW",
        "colab_type": "code",
        "colab": {
          "base_uri": "https://localhost:8080/",
          "height": 36
        },
        "outputId": "0f449716-2889-4049-b5ed-3251b3f08ff2"
      },
      "source": [
        "pred = model.predict(sc.transform([[1, 0, 0, 600, 1, 40, 3, 60000, 2, 1, 1, 50000]]))\n",
        "if(pred > 0.5):\n",
        "  print ('True')\n",
        "else:\n",
        "  print('False')"
      ],
      "execution_count": 68,
      "outputs": [
        {
          "output_type": "stream",
          "text": [
            "False\n"
          ],
          "name": "stdout"
        }
      ]
    }
  ]
}