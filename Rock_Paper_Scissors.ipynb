{
  "nbformat": 4,
  "nbformat_minor": 0,
  "metadata": {
    "colab": {
      "name": "Rock_Paper_Scissors.ipynb",
      "provenance": [],
      "mount_file_id": "1oGwBIx-RS99zJCDfUrP_lqRRHmxEg4s4",
      "authorship_tag": "ABX9TyMUwJ2IP70rBYPvc6GLi/Iz",
      "include_colab_link": true
    },
    "kernelspec": {
      "name": "python3",
      "display_name": "Python 3"
    },
    "accelerator": "GPU"
  },
  "cells": [
    {
      "cell_type": "markdown",
      "metadata": {
        "id": "view-in-github",
        "colab_type": "text"
      },
      "source": [
        "<a href=\"https://colab.research.google.com/github/astrasourav/Deep-Learning-/blob/master/Rock_Paper_Scissors.ipynb\" target=\"_parent\"><img src=\"https://colab.research.google.com/assets/colab-badge.svg\" alt=\"Open In Colab\"/></a>"
      ]
    },
    {
      "cell_type": "code",
      "metadata": {
        "id": "dY7ORI-O-ney",
        "colab_type": "code",
        "colab": {}
      },
      "source": [
        "# Importing libraries\n",
        "\n",
        "import tensorflow as tf\n",
        "from tensorflow import keras"
      ],
      "execution_count": 0,
      "outputs": []
    },
    {
      "cell_type": "markdown",
      "metadata": {
        "id": "4hoHWd6iFp9L",
        "colab_type": "text"
      },
      "source": [
        "Handeling dataset and Preprocessing the data before feeding into the CNN"
      ]
    },
    {
      "cell_type": "code",
      "metadata": {
        "id": "Oo3GDVA_-1iF",
        "colab_type": "code",
        "outputId": "400031e2-72b5-42c5-d17d-305134102618",
        "colab": {
          "base_uri": "https://localhost:8080/",
          "height": 428
        }
      },
      "source": [
        "# Downloading the dataset\n",
        "\n",
        "!wget --no-check-certificate \\\n",
        "    https://storage.googleapis.com/laurencemoroney-blog.appspot.com/rps.zip \\\n",
        "    -O /tmp/rps.zip\n",
        "  \n",
        "!wget --no-check-certificate \\\n",
        "    https://storage.googleapis.com/laurencemoroney-blog.appspot.com/rps-test-set.zip \\\n",
        "    -O /tmp/rps-test-set.zip"
      ],
      "execution_count": 2,
      "outputs": [
        {
          "output_type": "stream",
          "text": [
            "--2020-06-06 18:43:12--  https://storage.googleapis.com/laurencemoroney-blog.appspot.com/rps.zip\n",
            "Resolving storage.googleapis.com (storage.googleapis.com)... 74.125.204.128, 2404:6800:4008:c06::80\n",
            "Connecting to storage.googleapis.com (storage.googleapis.com)|74.125.204.128|:443... connected.\n",
            "HTTP request sent, awaiting response... 200 OK\n",
            "Length: 200682221 (191M) [application/zip]\n",
            "Saving to: ‘/tmp/rps.zip’\n",
            "\n",
            "/tmp/rps.zip        100%[===================>] 191.38M  59.8MB/s    in 3.2s    \n",
            "\n",
            "2020-06-06 18:43:16 (59.8 MB/s) - ‘/tmp/rps.zip’ saved [200682221/200682221]\n",
            "\n",
            "--2020-06-06 18:43:17--  https://storage.googleapis.com/laurencemoroney-blog.appspot.com/rps-test-set.zip\n",
            "Resolving storage.googleapis.com (storage.googleapis.com)... 74.125.23.128, 2404:6800:4008:c04::80\n",
            "Connecting to storage.googleapis.com (storage.googleapis.com)|74.125.23.128|:443... connected.\n",
            "HTTP request sent, awaiting response... 200 OK\n",
            "Length: 29516758 (28M) [application/zip]\n",
            "Saving to: ‘/tmp/rps-test-set.zip’\n",
            "\n",
            "/tmp/rps-test-set.z 100%[===================>]  28.15M  67.7MB/s    in 0.4s    \n",
            "\n",
            "2020-06-06 18:43:18 (67.7 MB/s) - ‘/tmp/rps-test-set.zip’ saved [29516758/29516758]\n",
            "\n"
          ],
          "name": "stdout"
        }
      ]
    },
    {
      "cell_type": "code",
      "metadata": {
        "id": "qVo2dmetAlUG",
        "colab_type": "code",
        "colab": {}
      },
      "source": [
        "# Unzipping the data\n",
        "\n",
        "import os\n",
        "import zipfile\n",
        "\n",
        "zip_dir = '/tmp/rps.zip'\n",
        "zip_file = zipfile.ZipFile(zip_dir, 'r')\n",
        "zip_file.extractall('/tmp')\n",
        "zip_file.close()\n",
        "\n",
        "zip_dir = '/tmp/rps-test-set.zip'\n",
        "zip_file = zipfile.ZipFile(zip_dir, 'r')\n",
        "zip_file.extractall('/tmp/')\n",
        "zip_file.close()"
      ],
      "execution_count": 0,
      "outputs": []
    },
    {
      "cell_type": "code",
      "metadata": {
        "id": "uMS-PuwXCgk0",
        "colab_type": "code",
        "outputId": "f6ea055e-344e-4889-d905-30ada43bbe59",
        "colab": {
          "base_uri": "https://localhost:8080/",
          "height": 73
        }
      },
      "source": [
        "# Preprocessing the data and doing image augmentation to avoid overfitting\n",
        "\n",
        "from keras.preprocessing.image import ImageDataGenerator\n",
        "\n",
        "bs = 100 \n",
        "train_dir = '/tmp/rps'\n",
        "train_datagen = ImageDataGenerator(\n",
        "      rescale = 1./255,\n",
        "\t    rotation_range=40,\n",
        "      width_shift_range=0.2,\n",
        "      height_shift_range=0.2,\n",
        "      shear_range=0.2,\n",
        "      zoom_range=0.2,\n",
        "      horizontal_flip=True,\n",
        "      fill_mode='nearest'\n",
        ")\n",
        "\n",
        "test_dir = '/tmp/rps-test-set'\n",
        "test_datagen = ImageDataGenerator(rescale = 1./255)\n",
        "\n",
        "train_generator = train_datagen.flow_from_directory(\n",
        "      train_dir,\n",
        "      target_size=(150, 150),\n",
        "      class_mode='categorical',\n",
        "      batch_size=bs\n",
        ")\n",
        "\n",
        "test_generator = test_datagen.flow_from_directory(\n",
        "    test_dir,\n",
        "    target_size=(150, 150),\n",
        "    class_mode = 'categorical',\n",
        "    batch_size = bs\n",
        ")"
      ],
      "execution_count": 4,
      "outputs": [
        {
          "output_type": "stream",
          "text": [
            "Using TensorFlow backend.\n"
          ],
          "name": "stderr"
        },
        {
          "output_type": "stream",
          "text": [
            "Found 2520 images belonging to 3 classes.\n",
            "Found 372 images belonging to 3 classes.\n"
          ],
          "name": "stdout"
        }
      ]
    },
    {
      "cell_type": "markdown",
      "metadata": {
        "id": "rl5DbogSFzU7",
        "colab_type": "text"
      },
      "source": [
        "Creating the model"
      ]
    },
    {
      "cell_type": "code",
      "metadata": {
        "id": "Zs5bKVRgFm6y",
        "colab_type": "code",
        "outputId": "d332adb1-b423-49e0-d19b-8cc73bf8fb2b",
        "colab": {
          "base_uri": "https://localhost:8080/",
          "height": 615
        }
      },
      "source": [
        "model = tf.keras.models.Sequential([\n",
        "                                    tf.keras.layers.Conv2D(64, (3,3), input_shape=(150, 150, 3), activation='relu'),\n",
        "                                    tf.keras.layers.MaxPooling2D((2,2), strides=2),\n",
        "                                    tf.keras.layers.Conv2D(64, (3,3), activation='relu'),\n",
        "                                    tf.keras.layers.MaxPooling2D((2,2), strides=2),\n",
        "                                    tf.keras.layers.Conv2D(128, (3,3), activation='relu'),\n",
        "                                    tf.keras.layers.MaxPooling2D((2,2), strides=2),\n",
        "                                    tf.keras.layers.Conv2D(128, (3,3), activation='relu'),\n",
        "                                    tf.keras.layers.MaxPooling2D((2,2), strides=2),\n",
        "                                    tf.keras.layers.Flatten(),\n",
        "                                    tf.keras.layers.Dropout(0.5),\n",
        "                                    tf.keras.layers.Dense(512, activation='relu'),\n",
        "                                    tf.keras.layers.Dense(3, activation='softmax'),\n",
        "])\n",
        "\n",
        "model.summary()"
      ],
      "execution_count": 5,
      "outputs": [
        {
          "output_type": "stream",
          "text": [
            "Model: \"sequential\"\n",
            "_________________________________________________________________\n",
            "Layer (type)                 Output Shape              Param #   \n",
            "=================================================================\n",
            "conv2d (Conv2D)              (None, 148, 148, 64)      1792      \n",
            "_________________________________________________________________\n",
            "max_pooling2d (MaxPooling2D) (None, 74, 74, 64)        0         \n",
            "_________________________________________________________________\n",
            "conv2d_1 (Conv2D)            (None, 72, 72, 64)        36928     \n",
            "_________________________________________________________________\n",
            "max_pooling2d_1 (MaxPooling2 (None, 36, 36, 64)        0         \n",
            "_________________________________________________________________\n",
            "conv2d_2 (Conv2D)            (None, 34, 34, 128)       73856     \n",
            "_________________________________________________________________\n",
            "max_pooling2d_2 (MaxPooling2 (None, 17, 17, 128)       0         \n",
            "_________________________________________________________________\n",
            "conv2d_3 (Conv2D)            (None, 15, 15, 128)       147584    \n",
            "_________________________________________________________________\n",
            "max_pooling2d_3 (MaxPooling2 (None, 7, 7, 128)         0         \n",
            "_________________________________________________________________\n",
            "flatten (Flatten)            (None, 6272)              0         \n",
            "_________________________________________________________________\n",
            "dropout (Dropout)            (None, 6272)              0         \n",
            "_________________________________________________________________\n",
            "dense (Dense)                (None, 512)               3211776   \n",
            "_________________________________________________________________\n",
            "dense_1 (Dense)              (None, 3)                 1539      \n",
            "=================================================================\n",
            "Total params: 3,473,475\n",
            "Trainable params: 3,473,475\n",
            "Non-trainable params: 0\n",
            "_________________________________________________________________\n"
          ],
          "name": "stdout"
        }
      ]
    },
    {
      "cell_type": "code",
      "metadata": {
        "id": "GYN0OTN-HhgD",
        "colab_type": "code",
        "outputId": "5e37e1b1-7589-433e-9617-4ab516bb83cc",
        "colab": {
          "base_uri": "https://localhost:8080/",
          "height": 951
        }
      },
      "source": [
        "# Compiling and Training the model\n",
        "\n",
        "model.compile(optimizer='adam', loss='categorical_crossentropy', metrics=['accuracy']),\n",
        "\n",
        "history = model.fit(train_generator, epochs=25, steps_per_epoch=2520/bs, validation_data=test_generator, validation_steps=372/bs, verbose=1)"
      ],
      "execution_count": 6,
      "outputs": [
        {
          "output_type": "stream",
          "text": [
            "Epoch 1/25\n",
            "26/25 [==============================] - 24s 912ms/step - loss: 1.1166 - accuracy: 0.3655 - val_loss: 1.0485 - val_accuracy: 0.5269\n",
            "Epoch 2/25\n",
            "26/25 [==============================] - 24s 906ms/step - loss: 1.0142 - accuracy: 0.4944 - val_loss: 0.6214 - val_accuracy: 0.7984\n",
            "Epoch 3/25\n",
            "26/25 [==============================] - 23s 895ms/step - loss: 0.7570 - accuracy: 0.6516 - val_loss: 0.4018 - val_accuracy: 0.8737\n",
            "Epoch 4/25\n",
            "26/25 [==============================] - 23s 893ms/step - loss: 0.5433 - accuracy: 0.7813 - val_loss: 0.3257 - val_accuracy: 0.7984\n",
            "Epoch 5/25\n",
            "26/25 [==============================] - 24s 922ms/step - loss: 0.4313 - accuracy: 0.8190 - val_loss: 0.1287 - val_accuracy: 0.9704\n",
            "Epoch 6/25\n",
            "26/25 [==============================] - 23s 897ms/step - loss: 0.2732 - accuracy: 0.9032 - val_loss: 0.1082 - val_accuracy: 0.9597\n",
            "Epoch 7/25\n",
            "26/25 [==============================] - 23s 895ms/step - loss: 0.2061 - accuracy: 0.9274 - val_loss: 0.1552 - val_accuracy: 0.9194\n",
            "Epoch 8/25\n",
            "26/25 [==============================] - 23s 898ms/step - loss: 0.2467 - accuracy: 0.9048 - val_loss: 0.0774 - val_accuracy: 0.9892\n",
            "Epoch 9/25\n",
            "26/25 [==============================] - 23s 903ms/step - loss: 0.1616 - accuracy: 0.9409 - val_loss: 0.1094 - val_accuracy: 0.9704\n",
            "Epoch 10/25\n",
            "26/25 [==============================] - 23s 891ms/step - loss: 0.1540 - accuracy: 0.9448 - val_loss: 0.1205 - val_accuracy: 0.9677\n",
            "Epoch 11/25\n",
            "26/25 [==============================] - 23s 895ms/step - loss: 0.1524 - accuracy: 0.9476 - val_loss: 0.0392 - val_accuracy: 0.9812\n",
            "Epoch 12/25\n",
            "26/25 [==============================] - 23s 886ms/step - loss: 0.1208 - accuracy: 0.9571 - val_loss: 0.0301 - val_accuracy: 0.9839\n",
            "Epoch 13/25\n",
            "26/25 [==============================] - 23s 894ms/step - loss: 0.1001 - accuracy: 0.9639 - val_loss: 0.1645 - val_accuracy: 0.9597\n",
            "Epoch 14/25\n",
            "26/25 [==============================] - 23s 894ms/step - loss: 0.1235 - accuracy: 0.9532 - val_loss: 0.0754 - val_accuracy: 0.9758\n",
            "Epoch 15/25\n",
            "26/25 [==============================] - 23s 893ms/step - loss: 0.1143 - accuracy: 0.9623 - val_loss: 0.2619 - val_accuracy: 0.9032\n",
            "Epoch 16/25\n",
            "26/25 [==============================] - 23s 891ms/step - loss: 0.1050 - accuracy: 0.9639 - val_loss: 0.1710 - val_accuracy: 0.9597\n",
            "Epoch 17/25\n",
            "26/25 [==============================] - 23s 891ms/step - loss: 0.0785 - accuracy: 0.9766 - val_loss: 0.0532 - val_accuracy: 0.9758\n",
            "Epoch 18/25\n",
            "26/25 [==============================] - 23s 889ms/step - loss: 0.0730 - accuracy: 0.9766 - val_loss: 0.0383 - val_accuracy: 0.9812\n",
            "Epoch 19/25\n",
            "26/25 [==============================] - 23s 892ms/step - loss: 0.0549 - accuracy: 0.9802 - val_loss: 0.1644 - val_accuracy: 0.9597\n",
            "Epoch 20/25\n",
            "26/25 [==============================] - 23s 894ms/step - loss: 0.0575 - accuracy: 0.9806 - val_loss: 0.1285 - val_accuracy: 0.9624\n",
            "Epoch 21/25\n",
            "26/25 [==============================] - 23s 896ms/step - loss: 0.0470 - accuracy: 0.9841 - val_loss: 0.0406 - val_accuracy: 0.9812\n",
            "Epoch 22/25\n",
            "26/25 [==============================] - 23s 895ms/step - loss: 0.0504 - accuracy: 0.9829 - val_loss: 0.1383 - val_accuracy: 0.9677\n",
            "Epoch 23/25\n",
            "26/25 [==============================] - 23s 895ms/step - loss: 0.0653 - accuracy: 0.9782 - val_loss: 0.0275 - val_accuracy: 0.9866\n",
            "Epoch 24/25\n",
            "26/25 [==============================] - 23s 898ms/step - loss: 0.0534 - accuracy: 0.9806 - val_loss: 0.0543 - val_accuracy: 0.9785\n",
            "Epoch 25/25\n",
            "26/25 [==============================] - 23s 893ms/step - loss: 0.0387 - accuracy: 0.9853 - val_loss: 0.0227 - val_accuracy: 0.9866\n"
          ],
          "name": "stdout"
        }
      ]
    },
    {
      "cell_type": "code",
      "metadata": {
        "id": "iRM2Gwty6XPE",
        "colab_type": "code",
        "outputId": "121e77a8-0e0c-4319-fb59-ac7a9858ea67",
        "colab": {
          "base_uri": "https://localhost:8080/",
          "height": 596
        }
      },
      "source": [
        "# Plotting the chart of our model\n",
        "\n",
        "import pandas as pd\n",
        "import matplotlib.pyplot as plt\n",
        "\n",
        "pd.DataFrame(history.history).plot(figsize=(10, 10))\n",
        "plt.grid(True)\n",
        "plt.gca().set_ylim(0,1)\n",
        "plt.show()"
      ],
      "execution_count": 8,
      "outputs": [
        {
          "output_type": "display_data",
          "data": {
            "image/png": "[encoded data removed]",
            "text/plain": [
              "<Figure size 720x720 with 1 Axes>"
            ]
          },
          "metadata": {
            "tags": [],
            "needs_background": "light"
          }
        }
      ]
    },
    {
      "cell_type": "code",
      "metadata": {
        "id": "X_qhFXWdLJqa",
        "colab_type": "code",
        "colab": {}
      },
      "source": [
        "# Predicting the image\n",
        "\n",
        "import numpy as np\n",
        "from keras.preprocessing import image\n",
        "\n",
        "test_img = image.load_img('', target_size=(150, 150))\n",
        "# test_img = image.load_img('/content/39641855.jpg', target_size=(150, 150))\n",
        "test_img = image.img_to_array(test_img)\n",
        "test_img = np.expand_dims(test_img, axis=0)\n",
        "# test_img.shape\n",
        "\n",
        "result = model.predict(test_img)\n",
        "print(result)"
      ],
      "execution_count": 0,
      "outputs": []
    },
    {
      "cell_type": "code",
      "metadata": {
        "id": "afdaWYsJcy9H",
        "colab_type": "code",
        "outputId": "96de68f3-81aa-4eb8-f733-030bcb340e2b",
        "colab": {
          "base_uri": "https://localhost:8080/",
          "height": 36
        }
      },
      "source": [
        "test_generator.class_indices"
      ],
      "execution_count": 10,
      "outputs": [
        {
          "output_type": "execute_result",
          "data": {
            "text/plain": [
              "{'paper': 0, 'rock': 1, 'scissors': 2}"
            ]
          },
          "metadata": {
            "tags": []
          },
          "execution_count": 10
        }
      ]
    }
  ]
}